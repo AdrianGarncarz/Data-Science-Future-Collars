{
 "cells": [
  {
   "cell_type": "code",
   "execution_count": 24,
   "id": "70e83309",
   "metadata": {},
   "outputs": [],
   "source": [
    "def palindromy(x, y):\n",
    "    if x == x[::-1] and y == y[::-1]:\n",
    "        return(x + \" i \" + y + \" są palindromami\")\n",
    "    elif x == x[::-1]:\n",
    "        return(x + \" jest palindromem\")\n",
    "    elif y == y[::-1]:\n",
    "        return(y + \" jest palindromem\")\n",
    "    else:\n",
    "        return(x + \" i \" + y + \" nie są palindromami\")"
   ]
  },
  {
   "cell_type": "code",
   "execution_count": 25,
   "id": "1478184c",
   "metadata": {},
   "outputs": [
    {
     "data": {
      "text/plain": [
       "'oko i lol są palindromami'"
      ]
     },
     "execution_count": 25,
     "metadata": {},
     "output_type": "execute_result"
    }
   ],
   "source": [
    "palindromy(\"oko\", \"lol\")"
   ]
  },
  {
   "cell_type": "code",
   "execution_count": 26,
   "id": "57261083",
   "metadata": {},
   "outputs": [
    {
     "data": {
      "text/plain": [
       "'lolo i jakieś zdanie nie są palindromami'"
      ]
     },
     "execution_count": 26,
     "metadata": {},
     "output_type": "execute_result"
    }
   ],
   "source": [
    "palindromy(\"lolo\", \"jakieś zdanie\")"
   ]
  },
  {
   "cell_type": "code",
   "execution_count": 27,
   "id": "0b7d7a48",
   "metadata": {},
   "outputs": [
    {
     "data": {
      "text/plain": [
       "'ala jest palindromem'"
      ]
     },
     "execution_count": 27,
     "metadata": {},
     "output_type": "execute_result"
    }
   ],
   "source": [
    "palindromy(\"ala\", \"niepalindrom\")"
   ]
  },
  {
   "cell_type": "code",
   "execution_count": 30,
   "id": "d90f2682",
   "metadata": {},
   "outputs": [
    {
     "data": {
      "text/plain": [
       "'ala ala jest palindromem'"
      ]
     },
     "execution_count": 30,
     "metadata": {},
     "output_type": "execute_result"
    }
   ],
   "source": [
    "palindromy(\"to nie jest\", \"ala ala\")"
   ]
  },
  {
   "cell_type": "code",
   "execution_count": null,
   "id": "ab47e5bc",
   "metadata": {},
   "outputs": [],
   "source": []
  }
 ],
 "metadata": {
  "kernelspec": {
   "display_name": "Python 3",
   "language": "python",
   "name": "python3"
  },
  "language_info": {
   "codemirror_mode": {
    "name": "ipython",
    "version": 3
   },
   "file_extension": ".py",
   "mimetype": "text/x-python",
   "name": "python",
   "nbconvert_exporter": "python",
   "pygments_lexer": "ipython3",
   "version": "3.8.8"
  }
 },
 "nbformat": 4,
 "nbformat_minor": 5
}
