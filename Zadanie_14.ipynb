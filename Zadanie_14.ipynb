{
 "cells": [
  {
   "cell_type": "markdown",
   "id": "f4a9ae86",
   "metadata": {},
   "source": [
    "Python - Zadanie 14 - Potęgowanie\n",
    "\n",
    "Napisz (przy pomocy rekurencji) funkcję realizującą potęgowanie. Funkcja przyjmuje dwie liczby całkowite, będące podstawą i wykładnikiem potęgi."
   ]
  },
  {
   "cell_type": "code",
   "execution_count": 80,
   "id": "e0085318",
   "metadata": {},
   "outputs": [],
   "source": [
    "def potegowanie(podstawa, n):\n",
    "    if n == 0:\n",
    "        wynik = 1\n",
    "        return wynik\n",
    "    elif n == 1:\n",
    "        wynik = podstawa\n",
    "        return wynik\n",
    "    elif n > 1:\n",
    "        wynik = podstawa * potegowanie(podstawa, n-1)\n",
    "        return wynik\n",
    "    elif n == -1:\n",
    "        wynik = 1/podstawa\n",
    "        return wynik\n",
    "    elif n < -1:\n",
    "        wynik = 1/podstawa * potegowanie(podstawa, n+1)\n",
    "        return wynik"
   ]
  },
  {
   "cell_type": "code",
   "execution_count": 81,
   "id": "62e9f9eb",
   "metadata": {},
   "outputs": [
    {
     "data": {
      "text/plain": [
       "1"
      ]
     },
     "execution_count": 81,
     "metadata": {},
     "output_type": "execute_result"
    }
   ],
   "source": [
    "potegowanie(2,0)"
   ]
  },
  {
   "cell_type": "code",
   "execution_count": 82,
   "id": "57a477a8",
   "metadata": {},
   "outputs": [
    {
     "data": {
      "text/plain": [
       "2"
      ]
     },
     "execution_count": 82,
     "metadata": {},
     "output_type": "execute_result"
    }
   ],
   "source": [
    "potegowanie(2,1)"
   ]
  },
  {
   "cell_type": "code",
   "execution_count": 83,
   "id": "ceb04cf7",
   "metadata": {},
   "outputs": [
    {
     "data": {
      "text/plain": [
       "4"
      ]
     },
     "execution_count": 83,
     "metadata": {},
     "output_type": "execute_result"
    }
   ],
   "source": [
    "potegowanie(2,2)"
   ]
  },
  {
   "cell_type": "code",
   "execution_count": 84,
   "id": "3c4c6e06",
   "metadata": {},
   "outputs": [
    {
     "data": {
      "text/plain": [
       "8"
      ]
     },
     "execution_count": 84,
     "metadata": {},
     "output_type": "execute_result"
    }
   ],
   "source": [
    "potegowanie(2,3)"
   ]
  },
  {
   "cell_type": "code",
   "execution_count": 85,
   "id": "e3d6e8b0",
   "metadata": {},
   "outputs": [
    {
     "data": {
      "text/plain": [
       "1000000"
      ]
     },
     "execution_count": 85,
     "metadata": {},
     "output_type": "execute_result"
    }
   ],
   "source": [
    "potegowanie(10, 6)"
   ]
  },
  {
   "cell_type": "code",
   "execution_count": 86,
   "id": "de2e2570",
   "metadata": {},
   "outputs": [
    {
     "data": {
      "text/plain": [
       "0.5"
      ]
     },
     "execution_count": 86,
     "metadata": {},
     "output_type": "execute_result"
    }
   ],
   "source": [
    "potegowanie(2, -1)"
   ]
  },
  {
   "cell_type": "code",
   "execution_count": 87,
   "id": "40d1bcac",
   "metadata": {},
   "outputs": [
    {
     "data": {
      "text/plain": [
       "0.25"
      ]
     },
     "execution_count": 87,
     "metadata": {},
     "output_type": "execute_result"
    }
   ],
   "source": [
    "potegowanie(2, -2)"
   ]
  },
  {
   "cell_type": "code",
   "execution_count": 88,
   "id": "7b58ab64",
   "metadata": {},
   "outputs": [
    {
     "data": {
      "text/plain": [
       "0.00010000000000000003"
      ]
     },
     "execution_count": 88,
     "metadata": {},
     "output_type": "execute_result"
    }
   ],
   "source": [
    "potegowanie(10, -4)"
   ]
  },
  {
   "cell_type": "code",
   "execution_count": null,
   "id": "4fa5c53b",
   "metadata": {},
   "outputs": [],
   "source": []
  }
 ],
 "metadata": {
  "kernelspec": {
   "display_name": "Python 3",
   "language": "python",
   "name": "python3"
  },
  "language_info": {
   "codemirror_mode": {
    "name": "ipython",
    "version": 3
   },
   "file_extension": ".py",
   "mimetype": "text/x-python",
   "name": "python",
   "nbconvert_exporter": "python",
   "pygments_lexer": "ipython3",
   "version": "3.8.8"
  }
 },
 "nbformat": 4,
 "nbformat_minor": 5
}
