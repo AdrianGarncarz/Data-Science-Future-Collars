{
 "cells": [
  {
   "cell_type": "markdown",
   "id": "5ee20c95",
   "metadata": {},
   "source": [
    "Pandas - Zadanie 2 - Najczęstsze nazwisko\n",
    "\n",
    "Osób o jakim nazwisku jest najwięcej?"
   ]
  },
  {
   "cell_type": "code",
   "execution_count": 2,
   "id": "1ba5af31",
   "metadata": {},
   "outputs": [],
   "source": [
    "import pandas as pd"
   ]
  },
  {
   "cell_type": "code",
   "execution_count": 7,
   "id": "4fd303bb",
   "metadata": {},
   "outputs": [],
   "source": [
    "dane = pd.read_csv(\"dataset_pandas_pd.csv\", delimiter=\",\", names=[\"imie\", \"nazwisko\", \"rok_urodz\", \"mies_urodz\", \"dzien_urodz\", \"miejsce_urodz\", \"miasto\", \"departament\", \"rok_rozp_pracy\", \"mies_rozp_pracy\", \"dzien_rozp_pracy\", \"doswiadczenie\"])"
   ]
  },
  {
   "cell_type": "code",
   "execution_count": 30,
   "id": "18b1b476",
   "metadata": {},
   "outputs": [
    {
     "data": {
      "text/plain": [
       "nazwisko\n",
       "Abacki    7\n",
       "Name: imie, dtype: int64"
      ]
     },
     "execution_count": 30,
     "metadata": {},
     "output_type": "execute_result"
    }
   ],
   "source": [
    "maks_nazw = dane.groupby(\"nazwisko\").count().imie\n",
    "maks_nazw[maks_nazw == maks_nazw.max()]"
   ]
  },
  {
   "cell_type": "code",
   "execution_count": null,
   "id": "857e9eca",
   "metadata": {},
   "outputs": [],
   "source": []
  }
 ],
 "metadata": {
  "kernelspec": {
   "display_name": "Python 3",
   "language": "python",
   "name": "python3"
  },
  "language_info": {
   "codemirror_mode": {
    "name": "ipython",
    "version": 3
   },
   "file_extension": ".py",
   "mimetype": "text/x-python",
   "name": "python",
   "nbconvert_exporter": "python",
   "pygments_lexer": "ipython3",
   "version": "3.8.8"
  }
 },
 "nbformat": 4,
 "nbformat_minor": 5
}
