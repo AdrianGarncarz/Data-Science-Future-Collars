{
 "cells": [
  {
   "cell_type": "markdown",
   "id": "fea3c9cb",
   "metadata": {},
   "source": [
    "Python - Zadanie 13 - Sortowanie według wzrostu\n",
    "\n",
    "Napisz funkcję, która przyjmie słownik mapujący imiona na wzrost, a następnie zwróci listę zawierającą imiona posortowane według wzrostu malejąco."
   ]
  },
  {
   "cell_type": "code",
   "execution_count": 6,
   "id": "4106ee6f",
   "metadata": {},
   "outputs": [],
   "source": [
    "def sort_wzrost(slownik):\n",
    "    lista = sorted(slownik, key=lambda wartosc: wartosc[1])\n",
    "    return lista       \n"
   ]
  },
  {
   "cell_type": "code",
   "execution_count": 7,
   "id": "66276519",
   "metadata": {},
   "outputs": [],
   "source": [
    "przykladowy_slownik = {'Adam': 178, 'Beata': 182, 'Cecylia': 160, 'Damian': 195, 'Ewa': 172, 'Filip': 182}"
   ]
  },
  {
   "cell_type": "code",
   "execution_count": 8,
   "id": "6e1a85b6",
   "metadata": {},
   "outputs": [
    {
     "name": "stdout",
     "output_type": "stream",
     "text": [
      "['Damian', 'Adam', 'Beata', 'Cecylia', 'Filip', 'Ewa']\n"
     ]
    }
   ],
   "source": [
    "print(sort_wzrost(przykladowy_slownik))"
   ]
  }
 ],
 "metadata": {
  "kernelspec": {
   "display_name": "Python 3",
   "language": "python",
   "name": "python3"
  },
  "language_info": {
   "codemirror_mode": {
    "name": "ipython",
    "version": 3
   },
   "file_extension": ".py",
   "mimetype": "text/x-python",
   "name": "python",
   "nbconvert_exporter": "python",
   "pygments_lexer": "ipython3",
   "version": "3.8.8"
  }
 },
 "nbformat": 4,
 "nbformat_minor": 5
}
