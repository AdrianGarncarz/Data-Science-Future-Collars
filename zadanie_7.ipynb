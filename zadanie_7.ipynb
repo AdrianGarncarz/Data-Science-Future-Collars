{
 "cells": [
  {
   "cell_type": "markdown",
   "id": "585dca38",
   "metadata": {},
   "source": [
    "Python - Zadanie 7 - Litery i cyfry\n",
    "\n",
    "Napisz funkcję przyjmujacą napis i zwracającą informacje ile liter i cyfr jest w napisie."
   ]
  },
  {
   "cell_type": "code",
   "execution_count": 14,
   "id": "ee2f5e35",
   "metadata": {},
   "outputs": [],
   "source": [
    "# definiuję funkcję, która zwraca liczbę liter i cyfr w podanym napisie w postaci krotki\n",
    "\n",
    "def lit_cyf(napis):\n",
    "    sum_lit = 0\n",
    "    sum_cyf = 0\n",
    "    for i in napis:\n",
    "        if i.isalpha():\n",
    "            sum_lit += 1\n",
    "        elif i.isdigit():\n",
    "            sum_cyf += 1\n",
    "    return(sum_lit, sum_cyf)"
   ]
  },
  {
   "cell_type": "code",
   "execution_count": 23,
   "id": "92d797f2",
   "metadata": {},
   "outputs": [],
   "source": [
    "napis1 = \"Liczba liter i cyfr w tym napisie 12341413\"\n",
    "napis2 = \"ahfphwah hafpfhof haih2o89186716b  38176 12y 90180r10 y3rq9q3riho\"\n",
    "napis3 = \"\""
   ]
  },
  {
   "cell_type": "code",
   "execution_count": 24,
   "id": "1f87276b",
   "metadata": {},
   "outputs": [
    {
     "name": "stdout",
     "output_type": "stream",
     "text": [
      "Liczba liter i cyfr w napisie, to kolejno:  (27, 8)\n"
     ]
    }
   ],
   "source": [
    "print(\"Liczba liter i cyfr w napisie, to kolejno: \", lit_cyf(napis1))"
   ]
  },
  {
   "cell_type": "code",
   "execution_count": 32,
   "id": "3e87b736",
   "metadata": {},
   "outputs": [],
   "source": [
    "# alternatywna funkcja, która od razu zwraca odpowiedź w formie napisu\n",
    "\n",
    "def lit_cyf2(napis):\n",
    "    sum_lit = 0\n",
    "    sum_cyf = 0\n",
    "    for i in napis:\n",
    "        if i.isalpha():\n",
    "            sum_lit += 1\n",
    "        elif i.isdigit():\n",
    "            sum_cyf += 1\n",
    "    print(\"Liczba liter w podanym napisie to: \", sum_lit, \"a cyfr to: \", sum_cyf)"
   ]
  },
  {
   "cell_type": "code",
   "execution_count": 33,
   "id": "1c99e4fa",
   "metadata": {},
   "outputs": [
    {
     "name": "stdout",
     "output_type": "stream",
     "text": [
      "Liczba liter w podanym napisie to:  27 a cyfr to:  8\n"
     ]
    }
   ],
   "source": [
    "lit_cyf2(napis1)"
   ]
  },
  {
   "cell_type": "markdown",
   "id": "220b2184",
   "metadata": {},
   "source": [
    "Test na dwóch innych napisach:"
   ]
  },
  {
   "cell_type": "code",
   "execution_count": 34,
   "id": "8ffa3d78",
   "metadata": {},
   "outputs": [
    {
     "data": {
      "text/plain": [
       "(32, 26)"
      ]
     },
     "execution_count": 34,
     "metadata": {},
     "output_type": "execute_result"
    }
   ],
   "source": [
    "lit_cyf(napis2)"
   ]
  },
  {
   "cell_type": "code",
   "execution_count": 35,
   "id": "9a4972dc",
   "metadata": {},
   "outputs": [
    {
     "name": "stdout",
     "output_type": "stream",
     "text": [
      "Liczba liter i cyfr w napisie, to kolejno:  (32, 26)\n"
     ]
    }
   ],
   "source": [
    "print(\"Liczba liter i cyfr w napisie, to kolejno: \", lit_cyf(napis2))"
   ]
  },
  {
   "cell_type": "code",
   "execution_count": 38,
   "id": "073f157f",
   "metadata": {},
   "outputs": [
    {
     "name": "stdout",
     "output_type": "stream",
     "text": [
      "Liczba liter w podanym napisie to:  32 a cyfr to:  26\n"
     ]
    }
   ],
   "source": [
    "lit_cyf2(napis2)"
   ]
  },
  {
   "cell_type": "code",
   "execution_count": 39,
   "id": "601351f6",
   "metadata": {},
   "outputs": [
    {
     "name": "stdout",
     "output_type": "stream",
     "text": [
      "Liczba liter i cyfr w napisie, to kolejno:  (0, 0)\n"
     ]
    }
   ],
   "source": [
    "print(\"Liczba liter i cyfr w napisie, to kolejno: \", lit_cyf(napis3))"
   ]
  },
  {
   "cell_type": "code",
   "execution_count": 40,
   "id": "85e5f1b1",
   "metadata": {},
   "outputs": [
    {
     "name": "stdout",
     "output_type": "stream",
     "text": [
      "Liczba liter w podanym napisie to:  0 a cyfr to:  0\n"
     ]
    }
   ],
   "source": [
    "lit_cyf2(napis3)"
   ]
  },
  {
   "cell_type": "code",
   "execution_count": null,
   "id": "9c0248c2",
   "metadata": {},
   "outputs": [],
   "source": []
  }
 ],
 "metadata": {
  "kernelspec": {
   "display_name": "Python 3",
   "language": "python",
   "name": "python3"
  },
  "language_info": {
   "codemirror_mode": {
    "name": "ipython",
    "version": 3
   },
   "file_extension": ".py",
   "mimetype": "text/x-python",
   "name": "python",
   "nbconvert_exporter": "python",
   "pygments_lexer": "ipython3",
   "version": "3.8.8"
  }
 },
 "nbformat": 4,
 "nbformat_minor": 5
}
