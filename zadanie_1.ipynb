{
 "cells": [
  {
   "cell_type": "markdown",
   "id": "3639f25f",
   "metadata": {},
   "source": [
    "**Python - Zadanie 1 - Podzielność przez drugą liczbę**\n",
    "\n",
    "Napisz funkcję o dwóch argumentach, która sprawdzi, czy jedna liczba jest podzielna przez drugą liczbę."
   ]
  },
  {
   "cell_type": "code",
   "execution_count": 12,
   "id": "e618acc7",
   "metadata": {},
   "outputs": [],
   "source": [
    "def podzielnosc(x, y):\n",
    "    if x%y == 0:\n",
    "        print(str(x) + \" jest podzielne przez \" + str(y))\n",
    "    elif y%x == 0:\n",
    "        print(str(y) + \" jest podzielne przez \" + str(x))\n",
    "    else:\n",
    "        print(\"Żadna z tych liczb nie jest podzielna przez drugą\")"
   ]
  },
  {
   "cell_type": "markdown",
   "id": "71b54223",
   "metadata": {},
   "source": [
    "Przykładowe wartości, żeby przetestować działanie:"
   ]
  },
  {
   "cell_type": "code",
   "execution_count": 13,
   "id": "641f58dc",
   "metadata": {},
   "outputs": [
    {
     "name": "stdout",
     "output_type": "stream",
     "text": [
      "10 jest podzielne przez 5\n"
     ]
    }
   ],
   "source": [
    "podzielnosc(10,5)"
   ]
  },
  {
   "cell_type": "code",
   "execution_count": 8,
   "id": "d6c9e43a",
   "metadata": {},
   "outputs": [
    {
     "name": "stdout",
     "output_type": "stream",
     "text": [
      "18 jest podzielne przez 3\n"
     ]
    }
   ],
   "source": [
    "podzielnosc(3,18)"
   ]
  },
  {
   "cell_type": "code",
   "execution_count": 9,
   "id": "c5e91480",
   "metadata": {},
   "outputs": [
    {
     "name": "stdout",
     "output_type": "stream",
     "text": [
      "Żadna z tych liczb nie jest podzielna przez drugą\n"
     ]
    }
   ],
   "source": [
    "podzielnosc(5,27)"
   ]
  },
  {
   "cell_type": "code",
   "execution_count": 11,
   "id": "c3299ea7",
   "metadata": {},
   "outputs": [
    {
     "name": "stdout",
     "output_type": "stream",
     "text": [
      "10.5 jest podzielne przez 0.5\n"
     ]
    }
   ],
   "source": [
    "podzielnosc(10.5, 0.5)"
   ]
  },
  {
   "cell_type": "code",
   "execution_count": null,
   "id": "01ea53e1",
   "metadata": {},
   "outputs": [],
   "source": []
  }
 ],
 "metadata": {
  "kernelspec": {
   "display_name": "Python 3",
   "language": "python",
   "name": "python3"
  },
  "language_info": {
   "codemirror_mode": {
    "name": "ipython",
    "version": 3
   },
   "file_extension": ".py",
   "mimetype": "text/x-python",
   "name": "python",
   "nbconvert_exporter": "python",
   "pygments_lexer": "ipython3",
   "version": "3.8.8"
  }
 },
 "nbformat": 4,
 "nbformat_minor": 5
}
