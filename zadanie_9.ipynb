{
 "cells": [
  {
   "cell_type": "raw",
   "id": "72958106",
   "metadata": {},
   "source": [
    "Python - Zadanie 9 - Zagnieżdżone pętle\n",
    "\n",
    "Używając zagnieżdżonych pętli, stwórz funkcję, która wydrukuje następujący wzór:\n",
    "\n",
    "*\n",
    "* $\n",
    "* $ *\n",
    "* $ * $\n",
    "* $ * $ *\n",
    "* $ * $\n",
    "* $ *\n",
    "* $\n",
    "*"
   ]
  },
  {
   "cell_type": "code",
   "execution_count": 47,
   "id": "eea0673f",
   "metadata": {},
   "outputs": [],
   "source": [
    "def druk(n):\n",
    "    for i in range(n):\n",
    "        for j in range(i):\n",
    "            if j%2 == 0:\n",
    "                print(\"*\", end=\" \")\n",
    "            else:\n",
    "                print(\"$\", end=\" \")\n",
    "        print(\"\")\n",
    "    for i in range(n-1,-1,-1):\n",
    "        for j in range(i+1):\n",
    "            if j%2 == 0:\n",
    "                print(\"*\", end=\" \")\n",
    "            else:\n",
    "                print(\"$\", end=\" \")\n",
    "        print(\"\")"
   ]
  },
  {
   "cell_type": "code",
   "execution_count": 48,
   "id": "aef8890a",
   "metadata": {},
   "outputs": [
    {
     "name": "stdout",
     "output_type": "stream",
     "text": [
      "\n",
      "* \n",
      "* $ \n",
      "* $ * \n",
      "* $ * $ \n",
      "* $ * $ * \n",
      "* $ * $ \n",
      "* $ * \n",
      "* $ \n",
      "* \n"
     ]
    }
   ],
   "source": [
    "druk(5)"
   ]
  },
  {
   "cell_type": "code",
   "execution_count": 49,
   "id": "af40a0cb",
   "metadata": {},
   "outputs": [
    {
     "name": "stdout",
     "output_type": "stream",
     "text": [
      "\n",
      "* \n",
      "* $ \n",
      "* $ * \n",
      "* $ * $ \n",
      "* $ * \n",
      "* $ \n",
      "* \n"
     ]
    }
   ],
   "source": [
    "druk(4)"
   ]
  },
  {
   "cell_type": "code",
   "execution_count": 50,
   "id": "7172bf75",
   "metadata": {},
   "outputs": [
    {
     "name": "stdout",
     "output_type": "stream",
     "text": [
      "\n",
      "* \n",
      "* $ \n",
      "* \n"
     ]
    }
   ],
   "source": [
    "druk(2)"
   ]
  },
  {
   "cell_type": "code",
   "execution_count": 51,
   "id": "fb909683",
   "metadata": {},
   "outputs": [
    {
     "name": "stdout",
     "output_type": "stream",
     "text": [
      "\n",
      "* \n",
      "* $ \n",
      "* $ * \n",
      "* $ * $ \n",
      "* $ * $ * \n",
      "* $ * $ * $ \n",
      "* $ * $ * $ * \n",
      "* $ * $ * $ * $ \n",
      "* $ * $ * $ * $ * \n",
      "* $ * $ * $ * $ * $ \n",
      "* $ * $ * $ * $ * \n",
      "* $ * $ * $ * $ \n",
      "* $ * $ * $ * \n",
      "* $ * $ * $ \n",
      "* $ * $ * \n",
      "* $ * $ \n",
      "* $ * \n",
      "* $ \n",
      "* \n"
     ]
    }
   ],
   "source": [
    "druk(10)"
   ]
  },
  {
   "cell_type": "code",
   "execution_count": null,
   "id": "5f9d9a4e",
   "metadata": {},
   "outputs": [],
   "source": []
  }
 ],
 "metadata": {
  "kernelspec": {
   "display_name": "Python 3",
   "language": "python",
   "name": "python3"
  },
  "language_info": {
   "codemirror_mode": {
    "name": "ipython",
    "version": 3
   },
   "file_extension": ".py",
   "mimetype": "text/x-python",
   "name": "python",
   "nbconvert_exporter": "python",
   "pygments_lexer": "ipython3",
   "version": "3.8.8"
  }
 },
 "nbformat": 4,
 "nbformat_minor": 5
}
