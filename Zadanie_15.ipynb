{
 "cells": [
  {
   "cell_type": "markdown",
   "id": "a0b01dfd",
   "metadata": {},
   "source": [
    "Python - Zadanie 15 - Najczęściej występujący element\n",
    "\n",
    "Napisz funkcję przyjmującą jeden parametr list zawierający liczby całkowite i zwracającą element, który pojawia się na liście najczęściej."
   ]
  },
  {
   "cell_type": "code",
   "execution_count": 3,
   "id": "2a191ffe",
   "metadata": {},
   "outputs": [],
   "source": [
    "def najczestszy_elem(lista):\n",
    "    x = max(lista, key=lista.count)\n",
    "    return x"
   ]
  },
  {
   "cell_type": "code",
   "execution_count": 9,
   "id": "d75496a4",
   "metadata": {},
   "outputs": [],
   "source": [
    "przyklad = [2, 3, 3, 4, 1, 55, 66]\n",
    "przyklad2 = [1, 3, 3, 1]\n",
    "przyklad3 = [3, 3, 1, 1]"
   ]
  },
  {
   "cell_type": "code",
   "execution_count": 10,
   "id": "25c16814",
   "metadata": {},
   "outputs": [
    {
     "data": {
      "text/plain": [
       "3"
      ]
     },
     "execution_count": 10,
     "metadata": {},
     "output_type": "execute_result"
    }
   ],
   "source": [
    "najczestszy_elem(przyklad)"
   ]
  },
  {
   "cell_type": "code",
   "execution_count": 11,
   "id": "f09a1e78",
   "metadata": {},
   "outputs": [
    {
     "data": {
      "text/plain": [
       "1"
      ]
     },
     "execution_count": 11,
     "metadata": {},
     "output_type": "execute_result"
    }
   ],
   "source": [
    "najczestszy_elem(przyklad2)"
   ]
  },
  {
   "cell_type": "code",
   "execution_count": 12,
   "id": "739ed148",
   "metadata": {},
   "outputs": [
    {
     "data": {
      "text/plain": [
       "3"
      ]
     },
     "execution_count": 12,
     "metadata": {},
     "output_type": "execute_result"
    }
   ],
   "source": [
    "najczestszy_elem(przyklad3)"
   ]
  },
  {
   "cell_type": "code",
   "execution_count": null,
   "id": "aff56492",
   "metadata": {},
   "outputs": [],
   "source": [
    "# funkcja zwraca PIERWSZY najczęściej pojawiający się element, jeśli więcej elementów powtarza się tyle samo razy"
   ]
  }
 ],
 "metadata": {
  "kernelspec": {
   "display_name": "Python 3",
   "language": "python",
   "name": "python3"
  },
  "language_info": {
   "codemirror_mode": {
    "name": "ipython",
    "version": 3
   },
   "file_extension": ".py",
   "mimetype": "text/x-python",
   "name": "python",
   "nbconvert_exporter": "python",
   "pygments_lexer": "ipython3",
   "version": "3.8.8"
  }
 },
 "nbformat": 4,
 "nbformat_minor": 5
}
