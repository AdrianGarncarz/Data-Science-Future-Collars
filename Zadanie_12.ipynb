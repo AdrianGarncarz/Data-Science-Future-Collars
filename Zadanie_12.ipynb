{
 "cells": [
  {
   "cell_type": "markdown",
   "id": "91f884ff",
   "metadata": {},
   "source": [
    "Pandas - Zadanie 12 - Seniorzy z ostatnich 10 lat\n",
    "\n",
    "Ile osób, które posiadają obecnie stanowisko seniorskie, dołączyło do firmy w przeciągu ostatnich 10 lat?"
   ]
  },
  {
   "cell_type": "code",
   "execution_count": 1,
   "id": "2554f017",
   "metadata": {},
   "outputs": [],
   "source": [
    "import pandas as pd\n",
    "import numpy as np\n",
    "\n",
    "dane = pd.read_csv(\"dataset_pandas_new.csv\", delimiter=\",\")"
   ]
  },
  {
   "cell_type": "code",
   "execution_count": 9,
   "id": "cc4dc06e",
   "metadata": {},
   "outputs": [
    {
     "data": {
      "text/plain": [
       "2"
      ]
     },
     "execution_count": 9,
     "metadata": {},
     "output_type": "execute_result"
    }
   ],
   "source": [
    "dane[(dane.poziom == 'Senior') & (dane.rok_rozp_pracy >= 2011)].count().nazwisko"
   ]
  },
  {
   "cell_type": "code",
   "execution_count": 7,
   "id": "132d1af4",
   "metadata": {},
   "outputs": [],
   "source": [
    "# NaN nie mają znaczenia, bo średni rok rozpoczęcia pracy jest większy niż 10 lat"
   ]
  },
  {
   "cell_type": "code",
   "execution_count": 6,
   "id": "b982de0b",
   "metadata": {},
   "outputs": [
    {
     "data": {
      "text/plain": [
       "poziom\n",
       "Ekspert    2009.0\n",
       "Mid        2010.0\n",
       "Senior     2008.0\n",
       "Name: rok_rozp_pracy, dtype: float64"
      ]
     },
     "execution_count": 6,
     "metadata": {},
     "output_type": "execute_result"
    }
   ],
   "source": [
    "round(dane.groupby('poziom').rok_rozp_pracy.mean())"
   ]
  },
  {
   "cell_type": "code",
   "execution_count": null,
   "id": "e4cf2014",
   "metadata": {},
   "outputs": [],
   "source": []
  }
 ],
 "metadata": {
  "kernelspec": {
   "display_name": "Python 3",
   "language": "python",
   "name": "python3"
  },
  "language_info": {
   "codemirror_mode": {
    "name": "ipython",
    "version": 3
   },
   "file_extension": ".py",
   "mimetype": "text/x-python",
   "name": "python",
   "nbconvert_exporter": "python",
   "pygments_lexer": "ipython3",
   "version": "3.8.8"
  }
 },
 "nbformat": 4,
 "nbformat_minor": 5
}
