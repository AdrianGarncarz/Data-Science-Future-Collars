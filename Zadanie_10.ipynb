{
 "cells": [
  {
   "cell_type": "markdown",
   "id": "a03d106d",
   "metadata": {},
   "source": [
    "Python - Zadanie 10 - Posortowana różnica list\n",
    "\n",
    "Napisz funkcję, która przyjmie dwie listy liczb całkowitych, i zwróci listę liczb występujących w pierwszej i nie występujących w drugiej liście, posortowana rosnąco względem ilości wystąpień w pierwszej liście."
   ]
  },
  {
   "cell_type": "code",
   "execution_count": 96,
   "id": "a1b8028e",
   "metadata": {},
   "outputs": [],
   "source": [
    "def sort_roznica(lista1, lista2):\n",
    "    nowa_lista = set(lista1)\n",
    "    for i in set(lista1):\n",
    "        for j in set(lista2):\n",
    "            if i == j:\n",
    "                nowa_lista.remove(i)\n",
    "    nowa_lista = sorted(nowa_lista, key=lambda x: lista1.count(x))\n",
    "    return nowa_lista"
   ]
  },
  {
   "cell_type": "code",
   "execution_count": 97,
   "id": "9859e4a4",
   "metadata": {},
   "outputs": [],
   "source": [
    "przyklad = [3, 5, 12, 5]\n",
    "przyklad2 = [15, 3]\n",
    "przyklad3 = [3, 3, 3, 33, 12, 12, 12, 21, 12, 12, 12, 5, 6, 7, 8]"
   ]
  },
  {
   "cell_type": "code",
   "execution_count": 98,
   "id": "f862415e",
   "metadata": {},
   "outputs": [
    {
     "data": {
      "text/plain": [
       "[12, 5]"
      ]
     },
     "execution_count": 98,
     "metadata": {},
     "output_type": "execute_result"
    }
   ],
   "source": [
    "sort_roznica(przyklad, przyklad2)"
   ]
  },
  {
   "cell_type": "code",
   "execution_count": 99,
   "id": "990759c1",
   "metadata": {},
   "outputs": [
    {
     "data": {
      "text/plain": [
       "[15]"
      ]
     },
     "execution_count": 99,
     "metadata": {},
     "output_type": "execute_result"
    }
   ],
   "source": [
    "sort_roznica(przyklad2, przyklad)"
   ]
  },
  {
   "cell_type": "code",
   "execution_count": 100,
   "id": "6d3ddc7c",
   "metadata": {},
   "outputs": [
    {
     "data": {
      "text/plain": [
       "[33, 6, 7, 8, 21]"
      ]
     },
     "execution_count": 100,
     "metadata": {},
     "output_type": "execute_result"
    }
   ],
   "source": [
    "sort_roznica(przyklad3, przyklad)"
   ]
  },
  {
   "cell_type": "code",
   "execution_count": 102,
   "id": "4e682626",
   "metadata": {},
   "outputs": [
    {
     "data": {
      "text/plain": [
       "[15]"
      ]
     },
     "execution_count": 102,
     "metadata": {},
     "output_type": "execute_result"
    }
   ],
   "source": [
    "sort_roznica(przyklad2, przyklad3)"
   ]
  },
  {
   "cell_type": "code",
   "execution_count": 103,
   "id": "446d8634",
   "metadata": {},
   "outputs": [
    {
     "data": {
      "text/plain": [
       "[33, 5, 6, 7, 8, 21, 12]"
      ]
     },
     "execution_count": 103,
     "metadata": {},
     "output_type": "execute_result"
    }
   ],
   "source": [
    "sort_roznica(przyklad3, przyklad2)"
   ]
  }
 ],
 "metadata": {
  "kernelspec": {
   "display_name": "Python 3",
   "language": "python",
   "name": "python3"
  },
  "language_info": {
   "codemirror_mode": {
    "name": "ipython",
    "version": 3
   },
   "file_extension": ".py",
   "mimetype": "text/x-python",
   "name": "python",
   "nbconvert_exporter": "python",
   "pygments_lexer": "ipython3",
   "version": "3.8.8"
  }
 },
 "nbformat": 4,
 "nbformat_minor": 5
}
