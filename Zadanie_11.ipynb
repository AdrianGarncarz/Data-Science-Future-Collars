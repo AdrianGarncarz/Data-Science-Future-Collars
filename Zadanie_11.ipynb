{
 "cells": [
  {
   "cell_type": "markdown",
   "id": "ec64f569",
   "metadata": {},
   "source": [
    "Pandas - Zadanie 11 - Kobiety Mid\n",
    "\n",
    "Ile jest kobiet w krakowskim biurze, na Mid poziomie doświadczenia, urodzonych przed 1975 rokiem ?"
   ]
  },
  {
   "cell_type": "code",
   "execution_count": 1,
   "id": "9ca056fd",
   "metadata": {},
   "outputs": [],
   "source": [
    "import pandas as pd\n",
    "import numpy as np\n",
    "\n",
    "dane = pd.read_csv(\"dataset_pandas_new.csv\", delimiter=\",\")"
   ]
  },
  {
   "cell_type": "code",
   "execution_count": 7,
   "id": "a9f06d50",
   "metadata": {},
   "outputs": [
    {
     "data": {
      "text/plain": [
       "2"
      ]
     },
     "execution_count": 7,
     "metadata": {},
     "output_type": "execute_result"
    }
   ],
   "source": [
    "dane[(dane.poziom == 'Mid') & (dane.plec == 'k') & (dane.miasto == 'Krakow') & (dane.rok_urodz > 1975)].count().nazwisko\n"
   ]
  }
 ],
 "metadata": {
  "kernelspec": {
   "display_name": "Python 3",
   "language": "python",
   "name": "python3"
  },
  "language_info": {
   "codemirror_mode": {
    "name": "ipython",
    "version": 3
   },
   "file_extension": ".py",
   "mimetype": "text/x-python",
   "name": "python",
   "nbconvert_exporter": "python",
   "pygments_lexer": "ipython3",
   "version": "3.8.8"
  }
 },
 "nbformat": 4,
 "nbformat_minor": 5
}
