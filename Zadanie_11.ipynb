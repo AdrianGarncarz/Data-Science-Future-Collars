{
 "cells": [
  {
   "cell_type": "markdown",
   "id": "3dfb9b96",
   "metadata": {},
   "source": [
    "Python - Zadanie 11 - Ciąg Fibonacciego\n",
    "\n",
    "Utworz funkcję, która przyjmie argument int n i obliczy n-ta liczbę ciagu Fibonacciego."
   ]
  },
  {
   "cell_type": "code",
   "execution_count": 46,
   "id": "fa4a0e45",
   "metadata": {},
   "outputs": [],
   "source": [
    "def ciag_fib(n):\n",
    "    if n <= 0:\n",
    "        return(\"Podaj liczbę dodatnią!\")\n",
    "    elif n <= 2:\n",
    "        return 1\n",
    "    else:\n",
    "        return ciag_fib(n-1) + ciag_fib(n-2)\n",
    "        "
   ]
  },
  {
   "cell_type": "code",
   "execution_count": 47,
   "id": "2c92c74e",
   "metadata": {},
   "outputs": [
    {
     "name": "stdout",
     "output_type": "stream",
     "text": [
      "Podaj liczbę dodatnią!\n"
     ]
    }
   ],
   "source": [
    "print(ciag_fib(0))"
   ]
  },
  {
   "cell_type": "code",
   "execution_count": 48,
   "id": "8fa3ee8c",
   "metadata": {},
   "outputs": [
    {
     "name": "stdout",
     "output_type": "stream",
     "text": [
      "1\n"
     ]
    }
   ],
   "source": [
    "print(ciag_fib(1))"
   ]
  },
  {
   "cell_type": "code",
   "execution_count": 49,
   "id": "7ed31773",
   "metadata": {},
   "outputs": [
    {
     "name": "stdout",
     "output_type": "stream",
     "text": [
      "1\n"
     ]
    }
   ],
   "source": [
    "print(ciag_fib(2))"
   ]
  },
  {
   "cell_type": "code",
   "execution_count": 50,
   "id": "e2bf3e7c",
   "metadata": {},
   "outputs": [
    {
     "name": "stdout",
     "output_type": "stream",
     "text": [
      "2\n"
     ]
    }
   ],
   "source": [
    "print(ciag_fib(3))"
   ]
  },
  {
   "cell_type": "code",
   "execution_count": 51,
   "id": "6d27d13f",
   "metadata": {},
   "outputs": [
    {
     "name": "stdout",
     "output_type": "stream",
     "text": [
      "3\n"
     ]
    }
   ],
   "source": [
    "print(ciag_fib(4))"
   ]
  },
  {
   "cell_type": "code",
   "execution_count": 52,
   "id": "a67d5f55",
   "metadata": {},
   "outputs": [
    {
     "name": "stdout",
     "output_type": "stream",
     "text": [
      "5\n"
     ]
    }
   ],
   "source": [
    "print(ciag_fib(5))"
   ]
  },
  {
   "cell_type": "code",
   "execution_count": 53,
   "id": "2c1b67f7",
   "metadata": {},
   "outputs": [
    {
     "name": "stdout",
     "output_type": "stream",
     "text": [
      "8\n"
     ]
    }
   ],
   "source": [
    "print(ciag_fib(6))"
   ]
  },
  {
   "cell_type": "code",
   "execution_count": 54,
   "id": "fa5b9bdb",
   "metadata": {},
   "outputs": [
    {
     "name": "stdout",
     "output_type": "stream",
     "text": [
      "13\n"
     ]
    }
   ],
   "source": [
    "print(ciag_fib(7))"
   ]
  },
  {
   "cell_type": "code",
   "execution_count": 55,
   "id": "946ee262",
   "metadata": {},
   "outputs": [
    {
     "name": "stdout",
     "output_type": "stream",
     "text": [
      "21\n"
     ]
    }
   ],
   "source": [
    "print(ciag_fib(8))"
   ]
  },
  {
   "cell_type": "code",
   "execution_count": 56,
   "id": "03268fb9",
   "metadata": {},
   "outputs": [
    {
     "name": "stdout",
     "output_type": "stream",
     "text": [
      "34\n"
     ]
    }
   ],
   "source": [
    "print(ciag_fib(9))"
   ]
  },
  {
   "cell_type": "code",
   "execution_count": 58,
   "id": "83e14688",
   "metadata": {},
   "outputs": [
    {
     "name": "stdout",
     "output_type": "stream",
     "text": [
      "6765\n"
     ]
    }
   ],
   "source": [
    "# i dla odmiany jakaś większa liczba:\n",
    "print(ciag_fib(20))"
   ]
  },
  {
   "cell_type": "code",
   "execution_count": null,
   "id": "11070360",
   "metadata": {},
   "outputs": [],
   "source": [
    "# i uwaga, zabijacz systemu ;P u mnie przez kilka minut nie policzyło i nie chciało mi się dłużej czekać\n",
    "print(ciag_fib(100))"
   ]
  },
  {
   "cell_type": "code",
   "execution_count": null,
   "id": "3b7fcaf8",
   "metadata": {},
   "outputs": [],
   "source": []
  }
 ],
 "metadata": {
  "kernelspec": {
   "display_name": "Python 3",
   "language": "python",
   "name": "python3"
  },
  "language_info": {
   "codemirror_mode": {
    "name": "ipython",
    "version": 3
   },
   "file_extension": ".py",
   "mimetype": "text/x-python",
   "name": "python",
   "nbconvert_exporter": "python",
   "pygments_lexer": "ipython3",
   "version": "3.8.8"
  }
 },
 "nbformat": 4,
 "nbformat_minor": 5
}
