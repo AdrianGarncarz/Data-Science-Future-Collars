{
 "cells": [
  {
   "cell_type": "markdown",
   "id": "3c9b4da1",
   "metadata": {},
   "source": [
    "Python - Zadanie 12 - Imię i wzrost\n",
    "\n",
    "Napisz funkcję, która przyjmie argumenty nazwane imie i wzrost a następnie utworzy wpis do globalnego słownika. Dodaj co najmniej 5 wpisów."
   ]
  },
  {
   "cell_type": "code",
   "execution_count": 12,
   "id": "58505013",
   "metadata": {},
   "outputs": [],
   "source": [
    "slownik = {}\n",
    "def dod_osobe(imie, wzrost):\n",
    "    global slownik\n",
    "    slownik[imie] = wzrost"
   ]
  },
  {
   "cell_type": "code",
   "execution_count": 13,
   "id": "bdf84424",
   "metadata": {},
   "outputs": [],
   "source": [
    "dod_osobe('Adam', 178)"
   ]
  },
  {
   "cell_type": "code",
   "execution_count": 14,
   "id": "3f839eb1",
   "metadata": {},
   "outputs": [
    {
     "name": "stdout",
     "output_type": "stream",
     "text": [
      "{'Adam': 178}\n"
     ]
    }
   ],
   "source": [
    "print(slownik)"
   ]
  },
  {
   "cell_type": "code",
   "execution_count": 15,
   "id": "b27ea629",
   "metadata": {},
   "outputs": [],
   "source": [
    "dod_osobe('Beata', 182)"
   ]
  },
  {
   "cell_type": "code",
   "execution_count": 16,
   "id": "e93b7367",
   "metadata": {},
   "outputs": [
    {
     "name": "stdout",
     "output_type": "stream",
     "text": [
      "{'Adam': 178, 'Beata': 182}\n"
     ]
    }
   ],
   "source": [
    "print(slownik)"
   ]
  },
  {
   "cell_type": "code",
   "execution_count": 17,
   "id": "b3935904",
   "metadata": {},
   "outputs": [],
   "source": [
    "dod_osobe('Cecylia', 160)"
   ]
  },
  {
   "cell_type": "code",
   "execution_count": 18,
   "id": "c4c86bf7",
   "metadata": {},
   "outputs": [],
   "source": [
    "dod_osobe('Damian', 195)"
   ]
  },
  {
   "cell_type": "code",
   "execution_count": 19,
   "id": "59bdd0d9",
   "metadata": {},
   "outputs": [],
   "source": [
    "dod_osobe('Ewa', 172)"
   ]
  },
  {
   "cell_type": "code",
   "execution_count": 21,
   "id": "c5887560",
   "metadata": {},
   "outputs": [],
   "source": [
    "dod_osobe('Filip', 182)"
   ]
  },
  {
   "cell_type": "code",
   "execution_count": 22,
   "id": "99d7f676",
   "metadata": {},
   "outputs": [
    {
     "name": "stdout",
     "output_type": "stream",
     "text": [
      "{'Adam': 178, 'Beata': 182, 'Cecylia': 160, 'Damian': 195, 'Ewa': 172, 'Filip': 182}\n"
     ]
    }
   ],
   "source": [
    "print(slownik)"
   ]
  }
 ],
 "metadata": {
  "kernelspec": {
   "display_name": "Python 3",
   "language": "python",
   "name": "python3"
  },
  "language_info": {
   "codemirror_mode": {
    "name": "ipython",
    "version": 3
   },
   "file_extension": ".py",
   "mimetype": "text/x-python",
   "name": "python",
   "nbconvert_exporter": "python",
   "pygments_lexer": "ipython3",
   "version": "3.8.8"
  }
 },
 "nbformat": 4,
 "nbformat_minor": 5
}
