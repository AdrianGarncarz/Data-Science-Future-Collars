{
 "cells": [
  {
   "cell_type": "markdown",
   "id": "8ac5a881",
   "metadata": {},
   "source": [
    "Python - Zadanie 6 - Państwa\n",
    "\n",
    "Wybierz kilka państw i stwórz dla każdego słownik, który będzie zawierać dane o nazwie państwa, powierzchni, liczbie mieszkańców, PKB per capita (PPP). Napisz funkcję, która dla listy słowników będzie wypisywać listę państw uszeregowanych według: * powierzchni * liczby ludności * gęstości zaludnienia * PKB per capita (PPP)"
   ]
  },
  {
   "cell_type": "code",
   "execution_count": 12,
   "id": "502d4095",
   "metadata": {},
   "outputs": [],
   "source": [
    "PL = {'nazwa': 'Polska', 'powierzchnia':  312696, 'populacja': 38265000, 'PPP': 15629}\n",
    "CZ = {'nazwa': 'Czechy', 'powierzchnia':  78866, 'populacja': 10649800, 'PPP': 20152}\n",
    "NO = {'nazwa': 'Norwegia', 'powierzchnia': 385207, 'populacja': 5391369, 'PPP': 74822}\n",
    "SE = {'nazwa': 'Szwecja', 'powierzchnia': 450295, 'populacja': 10327789, 'PPP': 53867}\n",
    "DK = {'nazwa': 'Dania', 'powierzchnia': 49098, 'populacja': 5822763, 'PPP': 56444}\n",
    "FI = {'nazwa': 'Finlandia', 'powierzchnia': 338145, 'populacja': 5503000, 'PPP': 46017}"
   ]
  },
  {
   "cell_type": "code",
   "execution_count": 13,
   "id": "006a13cc",
   "metadata": {},
   "outputs": [],
   "source": [
    "lista_panstw = [PL, CZ, NO, SE, DK, FI]"
   ]
  },
  {
   "cell_type": "code",
   "execution_count": 14,
   "id": "2f39c0b8",
   "metadata": {},
   "outputs": [],
   "source": [
    "def sortowanie(lista, wartosc):\n",
    "    posortowane = sorted(lista, key=lambda x: x[wartosc])\n",
    "    for i in posortowane:\n",
    "        print(i['nazwa'])\n"
   ]
  },
  {
   "cell_type": "code",
   "execution_count": 15,
   "id": "8812084e",
   "metadata": {},
   "outputs": [
    {
     "name": "stdout",
     "output_type": "stream",
     "text": [
      "Dania\n",
      "Czechy\n",
      "Polska\n",
      "Finlandia\n",
      "Norwegia\n",
      "Szwecja\n"
     ]
    }
   ],
   "source": [
    "sortowanie(lista_panstw, 'powierzchnia')"
   ]
  },
  {
   "cell_type": "code",
   "execution_count": 16,
   "id": "9778c66e",
   "metadata": {},
   "outputs": [
    {
     "name": "stdout",
     "output_type": "stream",
     "text": [
      "Norwegia\n",
      "Finlandia\n",
      "Dania\n",
      "Szwecja\n",
      "Czechy\n",
      "Polska\n"
     ]
    }
   ],
   "source": [
    "sortowanie(lista_panstw, 'populacja')"
   ]
  },
  {
   "cell_type": "markdown",
   "id": "b1ec17a4",
   "metadata": {},
   "source": [
    "Przygotowuję funkcję, która pozwoli dodać mi do każdego słownika wartość gęstości zaludnienia jako \"zaludnienie\".\n",
    "Następnie w pętli FOR dodaję tę wartość do każdego słownika."
   ]
  },
  {
   "cell_type": "code",
   "execution_count": 26,
   "id": "1eea7ff7",
   "metadata": {},
   "outputs": [],
   "source": [
    "def zaludnienie(nazwa_panstwa):\n",
    "    zaludnienie = nazwa_panstwa['populacja']/nazwa_panstwa['powierzchnia']\n",
    "    nazwa_panstwa['zaludnienie'] = zaludnienie"
   ]
  },
  {
   "cell_type": "code",
   "execution_count": 33,
   "id": "69273cef",
   "metadata": {},
   "outputs": [],
   "source": [
    "for i in lista_panstw:\n",
    "    zaludnienie(i)"
   ]
  },
  {
   "cell_type": "code",
   "execution_count": 41,
   "id": "557b6306",
   "metadata": {},
   "outputs": [
    {
     "name": "stdout",
     "output_type": "stream",
     "text": [
      "{'nazwa': 'Szwecja', 'powierzchnia': 450295, 'populacja': 10327789, 'PPP': 53867, 'zaludnienie': 22.935606657857626}\n"
     ]
    }
   ],
   "source": [
    "# sprawdzam na losowym słowniku, czy zadziałało jak powinno\n",
    "print(SE)"
   ]
  },
  {
   "cell_type": "code",
   "execution_count": 42,
   "id": "c3b56c95",
   "metadata": {},
   "outputs": [
    {
     "name": "stdout",
     "output_type": "stream",
     "text": [
      "Norwegia\n",
      "Finlandia\n",
      "Szwecja\n",
      "Dania\n",
      "Polska\n",
      "Czechy\n"
     ]
    }
   ],
   "source": [
    "sortowanie(lista_panstw, 'zaludnienie')"
   ]
  },
  {
   "cell_type": "code",
   "execution_count": 43,
   "id": "ecfc79d9",
   "metadata": {},
   "outputs": [
    {
     "name": "stdout",
     "output_type": "stream",
     "text": [
      "Polska\n",
      "Czechy\n",
      "Finlandia\n",
      "Szwecja\n",
      "Dania\n",
      "Norwegia\n"
     ]
    }
   ],
   "source": [
    "sortowanie(lista_panstw, 'PPP')"
   ]
  }
 ],
 "metadata": {
  "kernelspec": {
   "display_name": "Python 3",
   "language": "python",
   "name": "python3"
  },
  "language_info": {
   "codemirror_mode": {
    "name": "ipython",
    "version": 3
   },
   "file_extension": ".py",
   "mimetype": "text/x-python",
   "name": "python",
   "nbconvert_exporter": "python",
   "pygments_lexer": "ipython3",
   "version": "3.8.8"
  }
 },
 "nbformat": 4,
 "nbformat_minor": 5
}
