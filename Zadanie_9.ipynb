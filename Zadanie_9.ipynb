{
 "cells": [
  {
   "cell_type": "markdown",
   "id": "31b499bd",
   "metadata": {},
   "source": [
    "Pandas - Zadanie 9 - Seniorzy\n",
    "\n",
    "Które biuro firmy ma najwięcej osób na Seniorskim poziomie doświadczenia ?"
   ]
  },
  {
   "cell_type": "code",
   "execution_count": 2,
   "id": "a521e50c",
   "metadata": {},
   "outputs": [],
   "source": [
    "import pandas as pd\n",
    "import numpy as np\n",
    "\n",
    "dane = pd.read_csv(\"dataset_pandas_new.csv\", delimiter=\",\")"
   ]
  },
  {
   "cell_type": "code",
   "execution_count": 5,
   "id": "2bb6b8e1",
   "metadata": {},
   "outputs": [
    {
     "data": {
      "text/plain": [
       "'Krakow'"
      ]
     },
     "execution_count": 5,
     "metadata": {},
     "output_type": "execute_result"
    }
   ],
   "source": [
    "ds = dane[dane.poziom == 'Senior'].groupby('miasto').count().nazwisko\n",
    "ds.idxmax()"
   ]
  }
 ],
 "metadata": {
  "kernelspec": {
   "display_name": "Python 3",
   "language": "python",
   "name": "python3"
  },
  "language_info": {
   "codemirror_mode": {
    "name": "ipython",
    "version": 3
   },
   "file_extension": ".py",
   "mimetype": "text/x-python",
   "name": "python",
   "nbconvert_exporter": "python",
   "pygments_lexer": "ipython3",
   "version": "3.8.8"
  }
 },
 "nbformat": 4,
 "nbformat_minor": 5
}
